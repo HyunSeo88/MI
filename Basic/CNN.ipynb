{
 "cells": [
  {
   "cell_type": "code",
   "execution_count": null,
   "id": "f7133e85",
   "metadata": {},
   "outputs": [],
   "source": [
    "import torch\n",
    "from torch import nn\n",
    "import torch.nn.functional as F\n",
    "from torch.utils.data import Dataset\n",
    "from torchvision import datasets\n",
    "from torchvision.transforms import ToTensor"
   ]
  },
  {
   "cell_type": "code",
   "execution_count": null,
   "id": "cc2c79da",
   "metadata": {},
   "outputs": [],
   "source": [
    "class basic_ConvBlock(nn.Module):\n",
    "    def __init__(self, in_dim, dim, kernel_size=3, stride=1, padding=0):\n",
    "        super().__init__()\n",
    "        self.conv = nn.Conv2d(in_dim, dim, kernel_size, stride, padding)\n",
    "    def forward(self, x):\n",
    "        x = F.relu(self.conv(x))\n",
    "        return x\n",
    "    \n",
    "class basic_ConvNet(nn.Module):\n",
    "    def __init__(self,\n",
    "                 in_channels=3,\n",
    "                 dims=[64,128,256,384],\n",
    "                 strides=[1,2,2,1],\n",
    "                 num_classes=10):\n",
    "        super().__init__()\n",
    "        self.layers = nn.ModuleList()\n",
    "    \n",
    "        current_channels=in_channels\n",
    "        for i in range(len(dims)):\n",
    "            self.layers.append(\n",
    "                basic_ConvBlock(current_channels, dims[i], stride=strides[i]))\n",
    "            current_channels = dims[i]\n",
    "        self.head = nn.Linear(dims[-1]mnum_classes)\n",
    "        \n",
    "    def forward(self, x):\n",
    "        for i in range(4):\n",
    "            x = self.layers[i](x)\n",
    "        x=x.mean([-1,-2])\n",
    "        out = self.head(x)\n",
    "        return out\n",
    "                \n",
    "        \n",
    "        "
   ]
  }
 ],
 "metadata": {
  "kernelspec": {
   "display_name": "pytorch pr",
   "language": "python",
   "name": "pypr"
  },
  "language_info": {
   "codemirror_mode": {
    "name": "ipython",
    "version": 3
   },
   "file_extension": ".py",
   "mimetype": "text/x-python",
   "name": "python",
   "nbconvert_exporter": "python",
   "pygments_lexer": "ipython3",
   "version": "3.10.18"
  }
 },
 "nbformat": 4,
 "nbformat_minor": 5
}
