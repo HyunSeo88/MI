{
 "cells": [
  {
   "cell_type": "code",
   "execution_count": 1,
   "id": "e55570bd",
   "metadata": {},
   "outputs": [],
   "source": [
    "import torch\n",
    "import numpy as np\n"
   ]
  },
  {
   "cell_type": "markdown",
   "id": "db23f18d",
   "metadata": {},
   "source": [
    "### Tensor 초기화"
   ]
  },
  {
   "cell_type": "code",
   "execution_count": 10,
   "id": "2fe685e6",
   "metadata": {},
   "outputs": [
    {
     "name": "stdout",
     "output_type": "stream",
     "text": [
      "ones tensor: \n",
      " tensor([[1, 1],\n",
      "        [1, 1]])\n",
      "\n",
      "random tensor: \n",
      " tensor([[0.2664, 0.0542],\n",
      "        [0.5950, 0.8755]])\n",
      "\n",
      "random tensor using shape: \n",
      "tensor([[0.4984, 0.2510, 0.9188],\n",
      "        [0.1656, 0.7197, 0.6465]])\n",
      "\n",
      "ones tensor using shape: \n",
      "tensor([[1., 1., 1.],\n",
      "        [1., 1., 1.]])\n",
      "\n",
      "zeros tensor using shape: \n",
      "tensor([[0., 0., 0.],\n",
      "        [0., 0., 0.]])\n",
      "\n"
     ]
    }
   ],
   "source": [
    "# 1. 원 데이터로부터 바로 생성\n",
    "data = [[1,2],[3,4]]\n",
    "tensor_data = torch.tensor(data)\n",
    "\n",
    "# 2. numpy 배열로부터 생성\n",
    "np_array =np.array(data)\n",
    "x_np=torch.from_numpy(np_array)\n",
    "\n",
    "# 3. 다른 텐서로부터 생성하기\n",
    "# 명시적으로 override하지 않으면, 기존의 텐서 속성을 유지한다.\n",
    "x_ones = torch.ones_like(tensor_data)\n",
    "print(f\"ones tensor: \\n {x_ones}\\n\")\n",
    "\n",
    "x_rand = torch.rand_like(tensor_data, dtype=torch.float)\n",
    "print(f\"random tensor: \\n {x_rand}\\n\")\n",
    "\n",
    "# 4. 형태 지정하여 텐서 만들기\n",
    "shape = (2,3,)\n",
    "rand_tensor = torch.rand(shape)\n",
    "ones_tensor = torch.ones(shape)\n",
    "zeros_tensor = torch.zeros(shape)\n",
    "\n",
    "print(f\"random tensor using shape: \\n{rand_tensor}\\n\")\n",
    "print(f\"ones tensor using shape: \\n{ones_tensor}\\n\")\n",
    "print(f\"zeros tensor using shape: \\n{zeros_tensor}\\n\")"
   ]
  },
  {
   "cell_type": "markdown",
   "id": "8355e74b",
   "metadata": {},
   "source": [
    "### 텐서의 속성\n",
    "텐서의 속성은 shape, datatype, 저장위치가 있다."
   ]
  },
  {
   "cell_type": "code",
   "execution_count": 11,
   "id": "d92b2f7a",
   "metadata": {},
   "outputs": [
    {
     "name": "stdout",
     "output_type": "stream",
     "text": [
      "tensor shape: torch.Size([3, 4])\n",
      "tensor datatype: torch.float32\n",
      "device tensor stored: cpu\n"
     ]
    }
   ],
   "source": [
    "tensor = torch.rand(3,4)\n",
    "print(f\"tensor shape: {tensor.shape}\")\n",
    "print(f\"tensor datatype: {tensor.dtype}\")\n",
    "print(f\"device tensor stored: {tensor.device}\")"
   ]
  },
  {
   "cell_type": "markdown",
   "id": "5dc569c3",
   "metadata": {},
   "source": [
    "### 텐서 연산\n",
    "기본 numpy 연산과 거의 비슷?\n",
    "각 연산들은 모두 GPU에서 사용가능하다. -> 병렬연산이 빠른 GPU에서 학습이 빠른 이유"
   ]
  },
  {
   "cell_type": "code",
   "execution_count": 13,
   "id": "23cd9e68",
   "metadata": {},
   "outputs": [
    {
     "name": "stdout",
     "output_type": "stream",
     "text": [
      "False\n"
     ]
    }
   ],
   "source": [
    "# GPU가 존재하면 텐서를 gpu로 이동한다.\n",
    "if torch.cuda.is_available():\n",
    "    tensor=tensor.to(\"cuda\")\n",
    "print(torch.cuda.is_available())"
   ]
  },
  {
   "cell_type": "code",
   "execution_count": 21,
   "id": "6c02008d",
   "metadata": {},
   "outputs": [
    {
     "name": "stdout",
     "output_type": "stream",
     "text": [
      "<class 'float'>\n"
     ]
    }
   ],
   "source": [
    "# 산수 연산\n",
    "# 두 텐서 간의 행렬 곱을 계산한다. y1,y2,y3은 모두 같은 결과를 낸다.\n",
    "\n",
    "y1 = tensor @ tensor.T\n",
    "y2 = tensor.matmul(tensor.T)\n",
    "y3 = torch.rand_like(y1)\n",
    "torch.matmul(tensor,tensor.T,out=y3)\n",
    "\n",
    "\n",
    "# element wise을 계산한다.\n",
    "z1 = tensor*tensor\n",
    "z2 = tensor.mul(tensor)\n",
    "z3 = torch.rand_like(tensor)\n",
    "torch.mul(tensor,tensor,out=z3)\n",
    "\n",
    "# 단일 요소 텐서의 모든 값을 하나로 집계하여 요소가 하나인 텐서의 경우, item()을 사용하여 python숫자로 변환 가능\n",
    "agg = tensor.sum()\n",
    "agg_item = agg.item()\n",
    "print(type(agg_item))"
   ]
  },
  {
   "cell_type": "code",
   "execution_count": null,
   "id": "5aa1b847",
   "metadata": {},
   "outputs": [],
   "source": []
  },
  {
   "cell_type": "code",
   "execution_count": null,
   "id": "267ddf45",
   "metadata": {},
   "outputs": [],
   "source": []
  }
 ],
 "metadata": {
  "kernelspec": {
   "display_name": "pypr",
   "language": "python",
   "name": "python3"
  },
  "language_info": {
   "codemirror_mode": {
    "name": "ipython",
    "version": 3
   },
   "file_extension": ".py",
   "mimetype": "text/x-python",
   "name": "python",
   "nbconvert_exporter": "python",
   "pygments_lexer": "ipython3",
   "version": "3.10.18"
  }
 },
 "nbformat": 4,
 "nbformat_minor": 5
}
