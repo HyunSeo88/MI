{
 "cells": [
  {
   "cell_type": "markdown",
   "id": "c15243d2",
   "metadata": {},
   "source": [
    "## Transform\n",
    "데이터가 항상 학습에 최적화된 형태로 제공되지 않는다. transform을 통해 데이터를 처리하고, 학습에 적합한 형태로 만들어야한다.\n",
    "모든 torchvision 데이터셋들은 callable 객체를 받는 매개변수 두개(feature를 변경하기 위한 transform과 label을 변경하기 위한 target_transform)를 갖는다. torchvision.transforms모듈은 주로 사용하는 몇가지 transform을 제공한다.\n"
   ]
  },
  {
   "cell_type": "code",
   "execution_count": null,
   "id": "82ea4a25",
   "metadata": {},
   "outputs": [],
   "source": [
    "import torch\n",
    "from torchvision import datasets\n",
    "from torchvision.transforms import ToTensor, Lambda\n",
    "\n",
    "ds = datasets.FashionMNIST(\n",
    "    root=\"data\",\n",
    "    train=True,\n",
    "    download=True,\n",
    "    transform=ToTensor(),\n",
    "    target_transform=Lambda(lambda y: torch.zeros(10, dtype=torch.float).scatter_(0, torch.tensor(y), value=1))\n",
    ")\n"
   ]
  },
  {
   "cell_type": "markdown",
   "id": "e6ee56c0",
   "metadata": {},
   "source": [
    "### ToTensor()\n",
    "ToTensor는 PIL Image나 Numpy ndarray를 FloatTensor로 변환하고, 이미지의 픽셀의 크기값을 [0,1] 범위로 scale한다.\n",
    "\n",
    "### Lambda transform\n",
    "Lambda 변형은 사용자 정의 람다 함수를 적용한다. \n",
    "위에서는 정수를 원-핫으로 부호화된 텐서로 바꾸는 함수를 정의한다.\n",
    "먼저 데이터 label크기만큼인 10짜리 zero-tensor를 만들고, scatter를 호출하여 주어진 정답 y에 해당하는 인덱스에 1을 할당한다."
   ]
  },
  {
   "cell_type": "markdown",
   "id": "c2062cd4",
   "metadata": {},
   "source": []
  }
 ],
 "metadata": {
  "kernelspec": {
   "display_name": "pytorch pr",
   "language": "python",
   "name": "pypr"
  },
  "language_info": {
   "name": "python",
   "version": "3.10.18"
  }
 },
 "nbformat": 4,
 "nbformat_minor": 5
}
